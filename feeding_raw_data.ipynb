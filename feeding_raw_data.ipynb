{
 "cells": [
  {
   "cell_type": "code",
   "execution_count": 0,
   "metadata": {
    "application/vnd.databricks.v1+cell": {
     "cellMetadata": {},
     "inputWidgets": {},
     "nuid": "7a0b0899-0aba-4dbf-8a9d-776a14029cfc",
     "showTitle": false,
     "tableResultSettingsMap": {},
     "title": ""
    }
   },
   "outputs": [],
   "source": [
    "/Volumes/incremental_data_load/default/healthcare_data\n",
    "\n",
    "\n",
    "df = spark.read.option(\"header\", \"true\").option(\"inferSchema\", \"true\").csv(\"/Volumes/incremental_data_load/default/healthcare_data/diagnosis_mapping.csv\")\n",
    "display(df)\n",
    "\n",
    "df.write.format(\"delta\").mode(\"append\").saveAsTable(\"incremental_data_load.default.raw_diagnosis_map\")"
   ]
  },
  {
   "cell_type": "code",
   "execution_count": 0,
   "metadata": {
    "application/vnd.databricks.v1+cell": {
     "cellMetadata": {},
     "inputWidgets": {},
     "nuid": "4e07b1d0-6e09-47bc-bc75-a9245b26ea1e",
     "showTitle": false,
     "tableResultSettingsMap": {},
     "title": ""
    }
   },
   "outputs": [],
   "source": [
    "path1 = \"/Volumes/incremental_data_load/default/healthcare_data/patients_daily_file_1_2024.csv\"\n",
    "path2 = \"/Volumes/incremental_data_load/default/healthcare_data/patients_daily_file_2_2024.csv\"\n",
    "path3 = \"/Volumes/incremental_data_load/default/healthcare_data/patients_daily_file_3_2024.csv\"\n",
    "\n",
    "df1 = spark.read.option(\"header\", \"true\").option(\"inferSchema\", \"true\").csv(f\"{path1}\")\n",
    "df1 = df1.withColumn(\"admission_date\", df1[\"admission_date\"].cast(\"date\"))\n",
    "\n",
    "display(df1)\n",
    "\n",
    "df1.write.format(\"delta\").option(\"mergeSchema\", \"true\").mode(\"append\").saveAsTable(\"incremental_data_load.default.raw_patients_daily\")"
   ]
  }
 ],
 "metadata": {
  "application/vnd.databricks.v1+notebook": {
   "computePreferences": null,
   "dashboards": [],
   "environmentMetadata": {
    "base_environment": "",
    "client": "1"
   },
   "language": "python",
   "notebookMetadata": {
    "pythonIndentUnit": 4
   },
   "notebookName": "feeding_raw_data",
   "widgets": {}
  },
  "language_info": {
   "name": "python"
  }
 },
 "nbformat": 4,
 "nbformat_minor": 0
}
