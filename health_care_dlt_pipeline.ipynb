{
 "cells": [
  {
   "cell_type": "code",
   "execution_count": 0,
   "metadata": {
    "application/vnd.databricks.v1+cell": {
     "cellMetadata": {},
     "inputWidgets": {},
     "nuid": "385ad0e1-0a27-4c59-a98e-72b97bb139a3",
     "showTitle": false,
     "tableResultSettingsMap": {},
     "title": ""
    }
   },
   "outputs": [],
   "source": [
    "%sql\n",
    "\n",
    "-- materialized view table always ingests the entire data (old+new)\n",
    "CREATE LIVE TABLE diagnostic_mapping\n",
    "COMMENT \"Bronze table for the diagnosis mapping file\"\n",
    "TBLPROPERTIES (\"quality\" = \"bronze\")\n",
    "AS\n",
    "SELECT *\n",
    "FROM incremental_data_load.default.raw_diagnosis_map"
   ]
  },
  {
   "cell_type": "code",
   "execution_count": 0,
   "metadata": {
    "application/vnd.databricks.v1+cell": {
     "cellMetadata": {},
     "inputWidgets": {},
     "nuid": "d959de28-dcb9-40d9-9770-3eadbbf2e2c9",
     "showTitle": false,
     "tableResultSettingsMap": {},
     "title": ""
    }
   },
   "outputs": [],
   "source": [
    "%sql\n",
    "\n",
    "-- stream table only ingests newly added data and then appeds the data to daily patients target table\n",
    "CREATE OR REFRESH STREAMING TABLE daily_patients\n",
    "COMMENT \"Bronze table for daily patient data\"\n",
    "TBLPROPERTIES (\"quality\" = \"bronze\")\n",
    "AS\n",
    "SELECT *\n",
    "FROM STREAM(incremental_load.default.raw_patients_daily)"
   ]
  },
  {
   "cell_type": "code",
   "execution_count": 0,
   "metadata": {
    "application/vnd.databricks.v1+cell": {
     "cellMetadata": {},
     "inputWidgets": {},
     "nuid": "7ae2bf2c-2a46-4fae-adbf-bbf2af1ba73d",
     "showTitle": false,
     "tableResultSettingsMap": {},
     "title": ""
    }
   },
   "outputs": [],
   "source": [
    "%sql\n",
    "\n",
    "-- resources are limited so the constraints are not possible on free limited resources so removed them\n",
    "-- CREATE OR REFRESH STREAMING TABLE processed_patient_data(CONSTRAINT valid_data EXPECT (patient_id IS NOT NULL and `name` IS NOT NULL and age IS NOT NULL and gender IS NOT NULL and `address` IS NOT NULL and contact_number IS NOT NULL and admission_date IS NOT NULL) ON VIOLATION DROP ROW)\n",
    "-- COMMENT \"Silver table with newly joined data from bronze tables and data quality constraints\"\n",
    "-- TBLPROPERTIES (\"quality\" = \"silver\")\n",
    "-- AS\n",
    "-- SELECT\n",
    "--     p.patient_id,\n",
    "--     p.name,\n",
    "--     p.age,\n",
    "--     p.gender,\n",
    "--     p.address,\n",
    "--     p.contact_number,\n",
    "--     p.admission_date,\n",
    "--     m.diagnosis_description\n",
    "-- FROM STREAM(live.daily_patients) p\n",
    "-- LEFT JOIN live.diagnostic_mapping m\n",
    "-- ON p.diagnosis_code = m.diagnosis_code;\n",
    "\n",
    "-- removed the quality check part in this piece of code\n",
    "CREATE OR REFRESH STREAMING TABLE processed_patient_data\n",
    "COMMENT \"Silver table with newly joined data from bronze tables and data quality constraints\"\n",
    "TBLPROPERTIES (\"quality\" = \"silver\")\n",
    "AS\n",
    "SELECT\n",
    "    p.patient_id,\n",
    "    p.name,\n",
    "    p.age,\n",
    "    p.gender,\n",
    "    p.address,\n",
    "    p.contact_number,\n",
    "    p.admission_date,\n",
    "    m.diagnosis_description\n",
    "FROM STREAM(live.daily_patients) p\n",
    "LEFT JOIN live.diagnostic_mapping m\n",
    "ON p.diagnosis_code = m.diagnosis_code;"
   ]
  },
  {
   "cell_type": "code",
   "execution_count": 0,
   "metadata": {
    "application/vnd.databricks.v1+cell": {
     "cellMetadata": {},
     "inputWidgets": {},
     "nuid": "8e1ca2c6-32e1-486d-93a5-1ee979104401",
     "showTitle": false,
     "tableResultSettingsMap": {},
     "title": ""
    }
   },
   "outputs": [],
   "source": [
    "%sql\n",
    "\n",
    "-- 1st gold table with detailed patient stats\n",
    "CREATE LIVE TABLE patient_statistics_by_diagnosis\n",
    "COMMENT \"Gold table with detailed patient statistics by diagnosis description\"\n",
    "TBLPROPERTIES (\"quality\" = \"gold\")\n",
    "AS\n",
    "SELECT\n",
    "    diagnosis_description,\n",
    "    COUNT(patient_id) AS patient_count,\n",
    "    AVG(age) AS avg_age,\n",
    "    COUNT(DISTINCT gender) AS unique_gender_count,\n",
    "    MIN(age) AS min_age,\n",
    "    MAX(age) AS max_age\n",
    "FROM live.processed_patient_data\n",
    "GROUP BY diagnosis_description;"
   ]
  },
  {
   "cell_type": "code",
   "execution_count": 0,
   "metadata": {
    "application/vnd.databricks.v1+cell": {
     "cellMetadata": {},
     "inputWidgets": {},
     "nuid": "d707ac18-bbd9-42b1-bd0d-b1682bae2d1e",
     "showTitle": false,
     "tableResultSettingsMap": {},
     "title": ""
    }
   },
   "outputs": [],
   "source": [
    "%sql\n",
    "\n",
    "-- 1st gold table with detailed patient stats based on gender\n",
    "CREATE LIVE TABLE patient_statistics_by_gender\n",
    "COMMENT \"Gold table with detailed patient statistics by gender\"\n",
    "TBLPROPERTIES (\"quality\" = \"gold\")\n",
    "AS\n",
    "SELECT\n",
    "    gender,\n",
    "    COUNT(patient_id) AS patient_count,\n",
    "    AVG(age) AS avg_age,\n",
    "    COUNT(DISTINCT diagnosis_description) AS unique_diagnosis_count,\n",
    "    MIN(age) AS min_age,\n",
    "    MAX(age) AS max_age\n",
    "FROM live.processed_patient_data\n",
    "GROUP BY gender;"
   ]
  }
 ],
 "metadata": {
  "application/vnd.databricks.v1+notebook": {
   "computePreferences": null,
   "dashboards": [],
   "environmentMetadata": {
    "base_environment": "",
    "client": "1"
   },
   "language": "python",
   "notebookMetadata": {
    "pythonIndentUnit": 4
   },
   "notebookName": "health_care_dlt_pipeline",
   "widgets": {}
  },
  "language_info": {
   "name": "python"
  }
 },
 "nbformat": 4,
 "nbformat_minor": 0
}
